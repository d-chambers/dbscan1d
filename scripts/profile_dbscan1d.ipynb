{
 "cells": [
  {
   "cell_type": "markdown",
   "metadata": {},
   "source": [
    "\n",
    "# Simple profiling for dbscan 1d implementation"
   ]
  },
  {
   "cell_type": "code",
   "execution_count": null,
   "metadata": {},
   "outputs": [],
   "source": [
    "from pathlib import Path\n",
    "\n",
    "import matplotlib.pyplot as plt\n",
    "import pandas as pd\n",
    "\n",
    "from dbscan1d import DBSCAN1D\n",
    "from sklearn.cluster import DBSCAN\n",
    "from sklearn.datasets import make_blobs\n",
    "\n",
    "\n",
    "n_points = [10, 100, 1_000, 10_000, 20_000, 30_000, 40_000,]\n",
    "centers = 2"
   ]
  },
  {
   "cell_type": "code",
   "execution_count": null,
   "metadata": {},
   "outputs": [],
   "source": [
    "# create tests data matrix\n",
    "def create_blobs(num_points, centers):\n",
    "    return make_blobs(num_points, centers=centers, n_features=1)[0]"
   ]
  },
  {
   "cell_type": "code",
   "execution_count": null,
   "metadata": {},
   "outputs": [],
   "source": [
    "# Profile\n",
    "db1 = DBSCAN1D(.5, 4)\n",
    "db2 = DBSCAN(.5, 4)"
   ]
  },
  {
   "cell_type": "code",
   "execution_count": null,
   "metadata": {},
   "outputs": [],
   "source": [
    "# profile each stream type with each function\n",
    "df = pd.DataFrame(columns=['dbscan', 'dbscan1d'], index=n_points)\n",
    "for n_point in n_points:\n",
    "    print(f'on {n_point}')\n",
    "    X = create_blobs(n_point, centers)\n",
    "    print('starting dbscan1d')\n",
    "    ti1 = %timeit -o db1.fit_predict(X)\n",
    "    df.loc[n_point, 'dbscan1d'] = ti1.best\n",
    "    print('starting dbscan')\n",
    "    ti2 = %timeit -o db2.fit_predict(X)\n",
    "    df.loc[n_point, 'dbscan'] = ti2.best\n",
    "    print()\n",
    "    print()"
   ]
  },
  {
   "cell_type": "markdown",
   "metadata": {},
   "source": [
    "## Plot results\n",
    "Plot results and save figure to docs"
   ]
  },
  {
   "cell_type": "code",
   "execution_count": null,
   "metadata": {
    "pycharm": {
     "name": "#%%\n"
    }
   },
   "outputs": [],
   "source": [
    "out_path = Path(__file__).parent / 'profile_results.png'\n",
    "\n",
    "x = df.index.values\n",
    "plt.loglog(x, df['dbscan'].values, label='dbscan', color='r')\n",
    "plt.loglog(x, df['dbscan1d'].values, label='dbscan1d', color='b')\n",
    "\n",
    "plt.xlabel('number of points')\n",
    "plt.ylabel('run time (s)')\n",
    "\n",
    "plt.legend()\n",
    "\n",
    "plt.savefig(out_path)\n",
    "\n",
    "plt.show()\n"
   ]
  }
 ],
 "metadata": {
  "kernelspec": {
   "display_name": "Python 3",
   "language": "python",
   "name": "python3"
  },
  "language_info": {
   "codemirror_mode": {
    "name": "ipython",
    "version": 3
   },
   "file_extension": ".py",
   "mimetype": "text/x-python",
   "name": "python",
   "nbconvert_exporter": "python",
   "pygments_lexer": "ipython3",
   "version": "3.7.3"
  },
  "pycharm": {
   "stem_cell": {
    "cell_type": "raw",
    "metadata": {
     "collapsed": false
    },
    "source": []
   }
  }
 },
 "nbformat": 4,
 "nbformat_minor": 2
}
